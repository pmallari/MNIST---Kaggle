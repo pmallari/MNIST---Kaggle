{
 "cells": [
  {
   "cell_type": "markdown",
   "metadata": {},
   "source": [
    "# MNIST Hyper Parameter Test"
   ]
  },
  {
   "cell_type": "markdown",
   "metadata": {},
   "source": [
    "First, import modules. This includes<br>numpy for computations<br>pandas for data handling<br>matplotlib for display<br>scikit learn for machine learning"
   ]
  },
  {
   "cell_type": "code",
   "execution_count": 1,
   "metadata": {},
   "outputs": [],
   "source": [
    "import numpy as np\n",
    "import pandas as pd\n",
    "import matplotlib.pyplot as plt\n",
    "import sklearn\n",
    "from sklearn.datasets import fetch_mldata\n",
    "from sklearn.model_selection import train_test_split, cross_val_score\n",
    "from sklearn.metrics import confusion_matrix, accuracy_score\n",
    "from sklearn.preprocessing import StandardScaler\n",
    "from sklearn.neighbors import KNeighborsClassifier\n",
    "from sklearn.neural_network import MLPClassifier\n",
    "from sklearn.externals import joblib\n",
    "from sklearn.svm import SVC\n",
    "from tqdm import tqdm\n",
    "\n",
    "%matplotlib inline"
   ]
  },
  {
   "cell_type": "markdown",
   "metadata": {},
   "source": [
    "sklearn.datasets.fetch_mldata imports datasets found in scikitlearn's database."
   ]
  },
  {
   "cell_type": "markdown",
   "metadata": {},
   "source": [
    "Separate the image and labels. The image comes unrolled into a 784 points (28x28 unrolled)."
   ]
  },
  {
   "cell_type": "code",
   "execution_count": 2,
   "metadata": {},
   "outputs": [],
   "source": [
    "#Separate data and labels\n",
    "\n",
    "Data = np.asarray(pd.read_csv('train.csv'))\n",
    "X_data, y_data = Data[:,1:], Data[:,0]\n",
    "X_test = np.asarray(pd.read_csv('test.csv'))"
   ]
  },
  {
   "cell_type": "markdown",
   "metadata": {},
   "source": [
    "Scaling the data to have inputs between -1 and 1 helps improve the model's accuracy."
   ]
  },
  {
   "cell_type": "code",
   "execution_count": 3,
   "metadata": {},
   "outputs": [],
   "source": [
    "#Scale mnist data\n",
    "\n",
    "X_data_scaled = X_data/255\n",
    "X_test = X_test/255"
   ]
  },
  {
   "cell_type": "markdown",
   "metadata": {},
   "source": [
    "The dataset is split in 80% training data and 20% test data. The dataset is stratified during splitting so the training data is evenly distributed among the target values."
   ]
  },
  {
   "cell_type": "markdown",
   "metadata": {},
   "source": [
    "Run a loop to identify which combination of parameters returns the highest accuracy measure."
   ]
  },
  {
   "cell_type": "code",
   "execution_count": 4,
   "metadata": {},
   "outputs": [],
   "source": [
    "#Initiate MLPClassifier Model\n",
    "\n",
    "clf = MLPClassifier(solver = 'sgd', alpha = 1e-5, learning_rate = 'constant',\n",
    "                    hidden_layer_sizes=(400,), random_state = 42, tol = 1e-4,\n",
    "                    verbose = 100, max_iter=100, learning_rate_init = 0.01)"
   ]
  },
  {
   "cell_type": "code",
   "execution_count": 5,
   "metadata": {},
   "outputs": [
    {
     "name": "stdout",
     "output_type": "stream",
     "text": [
      "Iteration 1, loss = 0.63532157\n",
      "Iteration 2, loss = 0.31105947\n",
      "Iteration 3, loss = 0.26268664\n",
      "Iteration 4, loss = 0.23151889\n",
      "Iteration 5, loss = 0.20796500\n",
      "Iteration 6, loss = 0.18899403\n",
      "Iteration 7, loss = 0.17348537\n",
      "Iteration 8, loss = 0.15998856\n",
      "Iteration 9, loss = 0.14840421\n",
      "Iteration 10, loss = 0.13855788\n",
      "Iteration 11, loss = 0.12994750\n",
      "Iteration 12, loss = 0.12201588\n",
      "Iteration 13, loss = 0.11493266\n",
      "Iteration 14, loss = 0.10865681\n",
      "Iteration 15, loss = 0.10308018\n",
      "Iteration 16, loss = 0.09769670\n",
      "Iteration 17, loss = 0.09305867\n",
      "Iteration 18, loss = 0.08842278\n",
      "Iteration 19, loss = 0.08456720\n",
      "Iteration 20, loss = 0.08067707\n",
      "Iteration 21, loss = 0.07709227\n",
      "Iteration 22, loss = 0.07389432\n",
      "Iteration 23, loss = 0.07063148\n",
      "Iteration 24, loss = 0.06772097\n",
      "Iteration 25, loss = 0.06494865\n",
      "Iteration 26, loss = 0.06234494\n",
      "Iteration 27, loss = 0.06023327\n",
      "Iteration 28, loss = 0.05788612\n",
      "Iteration 29, loss = 0.05577463\n",
      "Iteration 30, loss = 0.05372235\n",
      "Iteration 31, loss = 0.05180914\n",
      "Iteration 32, loss = 0.05001107\n",
      "Iteration 33, loss = 0.04840099\n",
      "Iteration 34, loss = 0.04649067\n",
      "Iteration 35, loss = 0.04511143\n",
      "Iteration 36, loss = 0.04367386\n",
      "Iteration 37, loss = 0.04206840\n",
      "Iteration 38, loss = 0.04069216\n",
      "Iteration 39, loss = 0.03936278\n",
      "Iteration 40, loss = 0.03812766\n",
      "Iteration 41, loss = 0.03692839\n",
      "Iteration 42, loss = 0.03588614\n",
      "Iteration 43, loss = 0.03474958\n",
      "Iteration 44, loss = 0.03359806\n",
      "Iteration 45, loss = 0.03265393\n",
      "Iteration 46, loss = 0.03162494\n",
      "Iteration 47, loss = 0.03081088\n",
      "Iteration 48, loss = 0.02989091\n",
      "Iteration 49, loss = 0.02892001\n",
      "Iteration 50, loss = 0.02822046\n",
      "Iteration 51, loss = 0.02732127\n",
      "Iteration 52, loss = 0.02654207\n",
      "Iteration 53, loss = 0.02581466\n",
      "Iteration 54, loss = 0.02509444\n",
      "Iteration 55, loss = 0.02439998\n",
      "Iteration 56, loss = 0.02377645\n",
      "Iteration 57, loss = 0.02308988\n",
      "Iteration 58, loss = 0.02254504\n",
      "Iteration 59, loss = 0.02183740\n",
      "Iteration 60, loss = 0.02137385\n",
      "Iteration 61, loss = 0.02077637\n",
      "Iteration 62, loss = 0.02024644\n",
      "Iteration 63, loss = 0.01968439\n",
      "Iteration 64, loss = 0.01934337\n",
      "Iteration 65, loss = 0.01885570\n",
      "Iteration 66, loss = 0.01830100\n",
      "Iteration 67, loss = 0.01786457\n",
      "Iteration 68, loss = 0.01749049\n",
      "Iteration 69, loss = 0.01700685\n",
      "Iteration 70, loss = 0.01668197\n",
      "Iteration 71, loss = 0.01617632\n",
      "Iteration 72, loss = 0.01584368\n",
      "Iteration 73, loss = 0.01560420\n",
      "Iteration 74, loss = 0.01510891\n",
      "Iteration 75, loss = 0.01485739\n",
      "Iteration 76, loss = 0.01444109\n",
      "Iteration 77, loss = 0.01414749\n",
      "Iteration 78, loss = 0.01383189\n",
      "Iteration 79, loss = 0.01348328\n",
      "Iteration 80, loss = 0.01321842\n",
      "Iteration 81, loss = 0.01294103\n",
      "Iteration 82, loss = 0.01267531\n",
      "Iteration 83, loss = 0.01234825\n",
      "Iteration 84, loss = 0.01211900\n",
      "Iteration 85, loss = 0.01186447\n",
      "Iteration 86, loss = 0.01161434\n",
      "Iteration 87, loss = 0.01141492\n",
      "Iteration 88, loss = 0.01115552\n",
      "Iteration 89, loss = 0.01093794\n",
      "Iteration 90, loss = 0.01070795\n",
      "Iteration 91, loss = 0.01049487\n",
      "Iteration 92, loss = 0.01034119\n",
      "Iteration 93, loss = 0.01012477\n",
      "Iteration 94, loss = 0.00992797\n",
      "Iteration 95, loss = 0.00975484\n",
      "Iteration 96, loss = 0.00957507\n",
      "Iteration 97, loss = 0.00938134\n",
      "Iteration 98, loss = 0.00920352\n",
      "Iteration 99, loss = 0.00906678\n",
      "Iteration 100, loss = 0.00889282\n"
     ]
    },
    {
     "name": "stderr",
     "output_type": "stream",
     "text": [
      "C:\\Users\\princ\\AppData\\Local\\Continuum\\anaconda3\\envs\\tensorflow\\lib\\site-packages\\sklearn\\neural_network\\multilayer_perceptron.py:562: ConvergenceWarning: Stochastic Optimizer: Maximum iterations (100) reached and the optimization hasn't converged yet.\n",
      "  % self.max_iter, ConvergenceWarning)\n"
     ]
    },
    {
     "data": {
      "text/plain": [
       "MLPClassifier(activation='relu', alpha=1e-05, batch_size='auto', beta_1=0.9,\n",
       "       beta_2=0.999, early_stopping=False, epsilon=1e-08,\n",
       "       hidden_layer_sizes=(400,), learning_rate='constant',\n",
       "       learning_rate_init=0.01, max_iter=100, momentum=0.9,\n",
       "       n_iter_no_change=10, nesterovs_momentum=True, power_t=0.5,\n",
       "       random_state=42, shuffle=True, solver='sgd', tol=0.0001,\n",
       "       validation_fraction=0.1, verbose=100, warm_start=False)"
      ]
     },
     "execution_count": 5,
     "metadata": {},
     "output_type": "execute_result"
    }
   ],
   "source": [
    "#Train model\n",
    "\n",
    "clf.fit(X_data_scaled,y_data)"
   ]
  },
  {
   "cell_type": "markdown",
   "metadata": {},
   "source": [
    "Predict based on models"
   ]
  },
  {
   "cell_type": "code",
   "execution_count": 6,
   "metadata": {},
   "outputs": [
    {
     "name": "stderr",
     "output_type": "stream",
     "text": [
      "100%|██████████████████████████████████████████████████████████████████████████| 28000/28000 [00:05<00:00, 5474.82it/s]\n"
     ]
    }
   ],
   "source": [
    "#Predict \n",
    "y_pred=[]\n",
    "y_index=[]\n",
    "for i in tqdm(range(0,X_test.shape[0])):\n",
    "    y_pred.append(clf.predict(X_test[i,:].reshape(1,-1))[0])\n",
    "    y_index.append(i+1)"
   ]
  },
  {
   "cell_type": "code",
   "execution_count": 7,
   "metadata": {},
   "outputs": [],
   "source": [
    "final = pd.DataFrame({'ImageId':y_index,\n",
    "                      'Label':y_pred})\n",
    "final.to_csv(\"submission.csv\", index=False)"
   ]
  },
  {
   "cell_type": "code",
   "execution_count": 8,
   "metadata": {},
   "outputs": [
    {
     "data": {
      "text/plain": [
       "0.9997857142857143"
      ]
     },
     "execution_count": 8,
     "metadata": {},
     "output_type": "execute_result"
    }
   ],
   "source": [
    "clf.score(X_data_scaled,y_data)"
   ]
  }
 ],
 "metadata": {
  "kernelspec": {
   "display_name": "Python 3",
   "language": "python",
   "name": "python3"
  },
  "language_info": {
   "codemirror_mode": {
    "name": "ipython",
    "version": 3
   },
   "file_extension": ".py",
   "mimetype": "text/x-python",
   "name": "python",
   "nbconvert_exporter": "python",
   "pygments_lexer": "ipython3",
   "version": "3.6.6"
  }
 },
 "nbformat": 4,
 "nbformat_minor": 2
}
