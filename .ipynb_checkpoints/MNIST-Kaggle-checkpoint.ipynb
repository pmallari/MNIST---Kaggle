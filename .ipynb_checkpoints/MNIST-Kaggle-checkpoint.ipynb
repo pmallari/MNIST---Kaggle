{
 "cells": [
  {
   "cell_type": "markdown",
   "metadata": {},
   "source": [
    "# MNIST Hyper Parameter Test"
   ]
  },
  {
   "cell_type": "markdown",
   "metadata": {},
   "source": [
    "First, import modules. This includes<br>numpy for computations<br>pandas for data handling<br>matplotlib for display<br>scikit learn for machine learning"
   ]
  },
  {
   "cell_type": "code",
   "execution_count": 1,
   "metadata": {},
   "outputs": [],
   "source": [
    "import numpy as np\n",
    "import pandas as pd\n",
    "import matplotlib.pyplot as plt\n",
    "import sklearn\n",
    "from sklearn.datasets import fetch_mldata\n",
    "from sklearn.model_selection import train_test_split, cross_val_score\n",
    "from sklearn.metrics import confusion_matrix, accuracy_score\n",
    "from sklearn.preprocessing import StandardScaler\n",
    "from sklearn.neighbors import KNeighborsClassifier\n",
    "from sklearn.neural_network import MLPClassifier\n",
    "from sklearn.externals import joblib\n",
    "from sklearn.svm import SVC\n",
    "from tqdm import tqdm\n",
    "\n",
    "%matplotlib inline"
   ]
  },
  {
   "cell_type": "markdown",
   "metadata": {},
   "source": [
    "sklearn.datasets.fetch_mldata imports datasets found in scikitlearn's database."
   ]
  },
  {
   "cell_type": "code",
   "execution_count": 2,
   "metadata": {},
   "outputs": [
    {
     "name": "stderr",
     "output_type": "stream",
     "text": [
      "C:\\Users\\princ\\AppData\\Local\\Continuum\\anaconda3\\envs\\tensorflow\\lib\\site-packages\\sklearn\\utils\\deprecation.py:77: DeprecationWarning: Function fetch_mldata is deprecated; fetch_mldata was deprecated in version 0.20 and will be removed in version 0.22\n",
      "  warnings.warn(msg, category=DeprecationWarning)\n",
      "C:\\Users\\princ\\AppData\\Local\\Continuum\\anaconda3\\envs\\tensorflow\\lib\\site-packages\\sklearn\\utils\\deprecation.py:77: DeprecationWarning: Function mldata_filename is deprecated; mldata_filename was deprecated in version 0.20 and will be removed in version 0.22\n",
      "  warnings.warn(msg, category=DeprecationWarning)\n"
     ]
    }
   ],
   "source": [
    "#Import data\n",
    "\n",
    "mnist = fetch_mldata('MNIST original')"
   ]
  },
  {
   "cell_type": "markdown",
   "metadata": {},
   "source": [
    "Separate the image and labels. The image comes unrolled into a 784 points (28x28 unrolled)."
   ]
  },
  {
   "cell_type": "code",
   "execution_count": 3,
   "metadata": {},
   "outputs": [],
   "source": [
    "#Separate data and labels\n",
    "\n",
    "mnist_data = mnist['data']\n",
    "mnist_target = mnist['target']"
   ]
  },
  {
   "cell_type": "markdown",
   "metadata": {},
   "source": [
    "Scaling the data to have inputs between -1 and 1 helps improve the model's accuracy."
   ]
  },
  {
   "cell_type": "code",
   "execution_count": 4,
   "metadata": {},
   "outputs": [
    {
     "name": "stderr",
     "output_type": "stream",
     "text": [
      "C:\\Users\\princ\\AppData\\Local\\Continuum\\anaconda3\\envs\\tensorflow\\lib\\site-packages\\sklearn\\utils\\validation.py:590: DataConversionWarning: Data with input dtype uint8 was converted to float64 by StandardScaler.\n",
      "  warnings.warn(msg, DataConversionWarning)\n",
      "C:\\Users\\princ\\AppData\\Local\\Continuum\\anaconda3\\envs\\tensorflow\\lib\\site-packages\\sklearn\\utils\\validation.py:590: DataConversionWarning: Data with input dtype uint8 was converted to float64 by StandardScaler.\n",
      "  warnings.warn(msg, DataConversionWarning)\n"
     ]
    }
   ],
   "source": [
    "#Scale mnist data\n",
    "\n",
    "scaler = StandardScaler()\n",
    "scaler.fit(mnist_data)\n",
    "mnist_data_scaled = scaler.transform(mnist_data)"
   ]
  },
  {
   "cell_type": "markdown",
   "metadata": {},
   "source": [
    "The dataset is split in 80% training data and 20% test data. The dataset is stratified during splitting so the training data is evenly distributed among the target values."
   ]
  },
  {
   "cell_type": "code",
   "execution_count": 5,
   "metadata": {},
   "outputs": [],
   "source": [
    "#Stratified split of data set to train and test. Allot 20% for test sey\n",
    "\n",
    "X_train, X_test, y_train, y_test = train_test_split(mnist_data_scaled, \n",
    "                                                    mnist_target, \n",
    "                                                    stratify=mnist_target, \n",
    "                                                    test_size=0.2,\n",
    "                                                    random_state = 42)"
   ]
  },
  {
   "cell_type": "markdown",
   "metadata": {},
   "source": [
    "Run a loop to identify which combination of parameters returns the highest accuracy measure."
   ]
  },
  {
   "cell_type": "code",
   "execution_count": 22,
   "metadata": {},
   "outputs": [
    {
     "ename": "SyntaxError",
     "evalue": "invalid syntax (<ipython-input-22-03cf80adb459>, line 5)",
     "output_type": "error",
     "traceback": [
      "\u001b[1;36m  File \u001b[1;32m\"<ipython-input-22-03cf80adb459>\"\u001b[1;36m, line \u001b[1;32m5\u001b[0m\n\u001b[1;33m    verbose = 100, max_iter=100, learning_rate_init = 0.05)\u001b[0m\n\u001b[1;37m          ^\u001b[0m\n\u001b[1;31mSyntaxError\u001b[0m\u001b[1;31m:\u001b[0m invalid syntax\n"
     ]
    }
   ],
   "source": [
    "#Initiate MLPClassifier Model\n",
    "\n",
    "clf = MLPClassifier(solver = 'sgd', alpha = 1e-5, learning_rate = 'adaptive',\n",
    "                    hidden_layer_sizes=(50,), random_state = 42, tol = 1e-4\n",
    "                    verbose = 100, max_iter=100, learning_rate_init = 0.05)"
   ]
  },
  {
   "cell_type": "code",
   "execution_count": 23,
   "metadata": {},
   "outputs": [
    {
     "name": "stdout",
     "output_type": "stream",
     "text": [
      "Iteration 1, loss = 0.28888838\n",
      "Iteration 2, loss = 0.14121479\n",
      "Iteration 3, loss = 0.10596832\n",
      "Iteration 4, loss = 0.08667932\n",
      "Iteration 5, loss = 0.06992396\n",
      "Iteration 6, loss = 0.05643022\n",
      "Iteration 7, loss = 0.04867042\n",
      "Iteration 8, loss = 0.04533734\n",
      "Iteration 9, loss = 0.03743494\n",
      "Iteration 10, loss = 0.03014680\n",
      "Iteration 11, loss = 0.02467433\n",
      "Iteration 12, loss = 0.02233093\n",
      "Iteration 13, loss = 0.01789659\n",
      "Iteration 14, loss = 0.01289965\n",
      "Iteration 15, loss = 0.01165730\n",
      "Iteration 16, loss = 0.01036752\n",
      "Iteration 17, loss = 0.00860983\n",
      "Iteration 18, loss = 0.00647706\n",
      "Iteration 19, loss = 0.00740799\n",
      "Iteration 20, loss = 0.00654957\n",
      "Iteration 21, loss = 0.00558170\n",
      "Iteration 22, loss = 0.00439482\n",
      "Iteration 23, loss = 0.00288156\n",
      "Iteration 24, loss = 0.00239151\n",
      "Iteration 25, loss = 0.00223365\n",
      "Iteration 26, loss = 0.00203461\n",
      "Iteration 27, loss = 0.00212227\n",
      "Iteration 28, loss = 0.00165917\n",
      "Iteration 29, loss = 0.00156037\n",
      "Iteration 30, loss = 0.00146305\n",
      "Iteration 31, loss = 0.00136819\n",
      "Iteration 32, loss = 0.00129211\n",
      "Iteration 33, loss = 0.00123277\n",
      "Iteration 34, loss = 0.00118076\n",
      "Iteration 35, loss = 0.00113024\n",
      "Iteration 36, loss = 0.00107339\n",
      "Iteration 37, loss = 0.00102916\n",
      "Iteration 38, loss = 0.00099076\n",
      "Iteration 39, loss = 0.00095391\n",
      "Training loss did not improve more than tol=0.000100 for 10 consecutive epochs. Stopping.\n"
     ]
    },
    {
     "data": {
      "text/plain": [
       "MLPClassifier(activation='relu', alpha=1e-05, batch_size='auto', beta_1=0.9,\n",
       "       beta_2=0.999, early_stopping=False, epsilon=1e-08,\n",
       "       hidden_layer_sizes=(50,), learning_rate='constant',\n",
       "       learning_rate_init=0.05, max_iter=100, momentum=0.9,\n",
       "       n_iter_no_change=10, nesterovs_momentum=True, power_t=0.5,\n",
       "       random_state=42, shuffle=True, solver='sgd', tol=0.0001,\n",
       "       validation_fraction=0.1, verbose=100, warm_start=False)"
      ]
     },
     "execution_count": 23,
     "metadata": {},
     "output_type": "execute_result"
    }
   ],
   "source": [
    "#Train model\n",
    "\n",
    "clf.fit(X_train,y_train)"
   ]
  },
  {
   "cell_type": "markdown",
   "metadata": {},
   "source": [
    "Predict based on models"
   ]
  },
  {
   "cell_type": "code",
   "execution_count": 24,
   "metadata": {},
   "outputs": [
    {
     "name": "stderr",
     "output_type": "stream",
     "text": [
      "100%|██████████████████████████████████████████████████████████████████████████| 14000/14000 [00:01<00:00, 9555.77it/s]\n"
     ]
    }
   ],
   "source": [
    "#Predict \n",
    "y_pred=[]\n",
    "for i in tqdm(range(0,X_test.shape[0])):\n",
    "    y_pred.append(clf.predict(X_test[i,:].reshape(1,-1)))"
   ]
  },
  {
   "cell_type": "code",
   "execution_count": 25,
   "metadata": {},
   "outputs": [
    {
     "data": {
      "text/plain": [
       "0.9683571428571428"
      ]
     },
     "execution_count": 25,
     "metadata": {},
     "output_type": "execute_result"
    }
   ],
   "source": [
    "#Score\n",
    "\n",
    "acc_unif_p1 = accuracy_score(y_pred, y_test)\n",
    "acc_unif_p1"
   ]
  },
  {
   "cell_type": "code",
   "execution_count": 26,
   "metadata": {},
   "outputs": [
    {
     "data": {
      "text/plain": [
       "0.9999642857142857"
      ]
     },
     "execution_count": 26,
     "metadata": {},
     "output_type": "execute_result"
    }
   ],
   "source": [
    "clf.score(X_train,y_train)"
   ]
  },
  {
   "cell_type": "code",
   "execution_count": 27,
   "metadata": {},
   "outputs": [
    {
     "data": {
      "text/plain": [
       "0.9683571428571428"
      ]
     },
     "execution_count": 27,
     "metadata": {},
     "output_type": "execute_result"
    }
   ],
   "source": [
    "clf.score(X_test,y_test)"
   ]
  },
  {
   "cell_type": "code",
   "execution_count": null,
   "metadata": {},
   "outputs": [],
   "source": []
  }
 ],
 "metadata": {
  "kernelspec": {
   "display_name": "Python 3",
   "language": "python",
   "name": "python3"
  },
  "language_info": {
   "codemirror_mode": {
    "name": "ipython",
    "version": 3
   },
   "file_extension": ".py",
   "mimetype": "text/x-python",
   "name": "python",
   "nbconvert_exporter": "python",
   "pygments_lexer": "ipython3",
   "version": "3.6.6"
  }
 },
 "nbformat": 4,
 "nbformat_minor": 2
}
